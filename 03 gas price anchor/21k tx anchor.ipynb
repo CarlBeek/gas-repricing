{
 "cells": [
  {
   "cell_type": "code",
   "execution_count": 1,
   "id": "b07d0da0-1305-4c70-a09a-0a5c63606fd5",
   "metadata": {},
   "outputs": [],
   "source": [
    "import csv\n",
    "import pandas as pd\n",
    "import numpy as np\n",
    "import matplotlib.pyplot as plt\n",
    "\n",
    "OPCODE_DATA_PATH = '../data/final_gas_schedule_comparison.csv'\n",
    "\n",
    "df = pd.read_csv(OPCODE_DATA_PATH)\n",
    "df = df.rename(columns=lambda x: x.replace('gas', 'us'))"
   ]
  },
  {
   "cell_type": "code",
   "execution_count": 2,
   "id": "e85ff701-c22d-40d2-a60e-76bc4165cd3f",
   "metadata": {},
   "outputs": [],
   "source": [
    "df['max_us'] = df[['besu_us', 'erigon_us', 'geth_us', 'nethermind_us', 'revm_us']].max(axis=1)\n",
    "opcode_df = df[['opcode','max_us', 'besu_us', 'erigon_us', 'geth_us', 'nethermind_us', 'revm_us']]"
   ]
  },
  {
   "cell_type": "code",
   "execution_count": 3,
   "id": "f4963aba-eb56-48f1-a32f-5236fae1148f",
   "metadata": {},
   "outputs": [],
   "source": [
    "ecrecover_us = opcode_df[opcode_df['opcode'] == 'ECRECOVER']['max_us'].values[0]\n",
    "gas_per_us = 18000/ecrecover_us  # Assuming that  ECRECOVER accounts for ~18k/21k gas (imo roughly right)"
   ]
  },
  {
   "cell_type": "code",
   "execution_count": 4,
   "id": "71cd967e-0831-4f17-b367-c18d0caa8a2d",
   "metadata": {},
   "outputs": [
    {
     "data": {
      "text/html": [
       "<div>\n",
       "<style scoped>\n",
       "    .dataframe tbody tr th:only-of-type {\n",
       "        vertical-align: middle;\n",
       "    }\n",
       "\n",
       "    .dataframe tbody tr th {\n",
       "        vertical-align: top;\n",
       "    }\n",
       "\n",
       "    .dataframe thead th {\n",
       "        text-align: right;\n",
       "    }\n",
       "</style>\n",
       "<table border=\"1\" class=\"dataframe\">\n",
       "  <thead>\n",
       "    <tr style=\"text-align: right;\">\n",
       "      <th></th>\n",
       "      <th>opcode</th>\n",
       "      <th>precise_gas</th>\n",
       "      <th>gas_ceil</th>\n",
       "      <th>rounding_error</th>\n",
       "    </tr>\n",
       "  </thead>\n",
       "  <tbody>\n",
       "    <tr>\n",
       "      <th>0</th>\n",
       "      <td>ADD</td>\n",
       "      <td>7.508749</td>\n",
       "      <td>8.0</td>\n",
       "      <td>0.065424</td>\n",
       "    </tr>\n",
       "    <tr>\n",
       "      <th>1</th>\n",
       "      <td>MUL</td>\n",
       "      <td>8.526750</td>\n",
       "      <td>9.0</td>\n",
       "      <td>0.055502</td>\n",
       "    </tr>\n",
       "    <tr>\n",
       "      <th>2</th>\n",
       "      <td>SUB</td>\n",
       "      <td>7.126563</td>\n",
       "      <td>8.0</td>\n",
       "      <td>0.122561</td>\n",
       "    </tr>\n",
       "    <tr>\n",
       "      <th>3</th>\n",
       "      <td>DIV</td>\n",
       "      <td>6.100686</td>\n",
       "      <td>7.0</td>\n",
       "      <td>0.147412</td>\n",
       "    </tr>\n",
       "    <tr>\n",
       "      <th>4</th>\n",
       "      <td>SDIV</td>\n",
       "      <td>9.879860</td>\n",
       "      <td>10.0</td>\n",
       "      <td>0.012160</td>\n",
       "    </tr>\n",
       "    <tr>\n",
       "      <th>...</th>\n",
       "      <td>...</td>\n",
       "      <td>...</td>\n",
       "      <td>...</td>\n",
       "      <td>...</td>\n",
       "    </tr>\n",
       "    <tr>\n",
       "      <th>162</th>\n",
       "      <td>CREATE_ARG2</td>\n",
       "      <td>0.530775</td>\n",
       "      <td>1.0</td>\n",
       "      <td>0.884037</td>\n",
       "    </tr>\n",
       "    <tr>\n",
       "      <th>163</th>\n",
       "      <td>RETURN_ARG1</td>\n",
       "      <td>0.003240</td>\n",
       "      <td>1.0</td>\n",
       "      <td>307.651002</td>\n",
       "    </tr>\n",
       "    <tr>\n",
       "      <th>164</th>\n",
       "      <td>REVERT_ARG1</td>\n",
       "      <td>0.004499</td>\n",
       "      <td>1.0</td>\n",
       "      <td>221.275664</td>\n",
       "    </tr>\n",
       "    <tr>\n",
       "      <th>165</th>\n",
       "      <td>RIPEMD-160_ARG1</td>\n",
       "      <td>1.762846</td>\n",
       "      <td>2.0</td>\n",
       "      <td>0.134529</td>\n",
       "    </tr>\n",
       "    <tr>\n",
       "      <th>166</th>\n",
       "      <td>SHA2-256_ARG1</td>\n",
       "      <td>0.800492</td>\n",
       "      <td>1.0</td>\n",
       "      <td>0.249231</td>\n",
       "    </tr>\n",
       "  </tbody>\n",
       "</table>\n",
       "<p>167 rows × 4 columns</p>\n",
       "</div>"
      ],
      "text/plain": [
       "              opcode  precise_gas  gas_ceil  rounding_error\n",
       "0                ADD     7.508749       8.0        0.065424\n",
       "1                MUL     8.526750       9.0        0.055502\n",
       "2                SUB     7.126563       8.0        0.122561\n",
       "3                DIV     6.100686       7.0        0.147412\n",
       "4               SDIV     9.879860      10.0        0.012160\n",
       "..               ...          ...       ...             ...\n",
       "162      CREATE_ARG2     0.530775       1.0        0.884037\n",
       "163      RETURN_ARG1     0.003240       1.0      307.651002\n",
       "164      REVERT_ARG1     0.004499       1.0      221.275664\n",
       "165  RIPEMD-160_ARG1     1.762846       2.0        0.134529\n",
       "166    SHA2-256_ARG1     0.800492       1.0        0.249231\n",
       "\n",
       "[167 rows x 4 columns]"
      ]
     },
     "execution_count": 4,
     "metadata": {},
     "output_type": "execute_result"
    }
   ],
   "source": [
    "opcode_df = opcode_df.assign(\n",
    "    precise_gas=opcode_df['max_us'] * gas_per_us,\n",
    "    gas_ceil=lambda df: np.ceil(df['precise_gas']),\n",
    "    rounding_error=lambda df: ((np.ceil(df['precise_gas']) - df['precise_gas']) / df['precise_gas'])\n",
    ")\n",
    "\n",
    "opcode_df[['opcode', 'precise_gas', 'gas_ceil', 'rounding_error']]"
   ]
  },
  {
   "cell_type": "code",
   "execution_count": 5,
   "id": "8815cd49-74b4-4dd3-8ae2-e42203a32691",
   "metadata": {},
   "outputs": [
    {
     "data": {
      "image/png": "[encoded data removed]",
      "text/plain": [
       "<Figure size 640x480 with 1 Axes>"
      ]
     },
     "metadata": {},
     "output_type": "display_data"
    }
   ],
   "source": [
    "plt.bar(opcode_df['opcode'].head(50), opcode_df['rounding_error'].head(50))\n",
    "plt.xlabel('Opcode')\n",
    "plt.ylabel('Rounding Error')\n",
    "plt.title('Rounding Error by Opcode')\n",
    "plt.xticks(rotation=90, fontsize=8)\n",
    "plt.tight_layout()\n",
    "plt.show()"
   ]
  },
  {
   "cell_type": "code",
   "execution_count": null,
   "id": "f77afcf1-ae0a-4b7b-96b8-743de4c4dacb",
   "metadata": {},
   "outputs": [],
   "source": []
  },
  {
   "cell_type": "code",
   "execution_count": null,
   "id": "6824f5f5-d513-4538-a677-a355422d3b27",
   "metadata": {},
   "outputs": [],
   "source": []
  }
 ],
 "metadata": {
  "kernelspec": {
   "display_name": "Python (gas-repricing venv)",
   "language": "python",
   "name": "gas-repricing"
  },
  "language_info": {
   "codemirror_mode": {
    "name": "ipython",
    "version": 3
   },
   "file_extension": ".py",
   "mimetype": "text/x-python",
   "name": "python",
   "nbconvert_exporter": "python",
   "pygments_lexer": "ipython3",
   "version": "3.13.3"
  }
 },
 "nbformat": 4,
 "nbformat_minor": 5
}
